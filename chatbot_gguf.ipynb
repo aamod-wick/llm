{
 "cells": [
  {
   "cell_type": "code",
   "execution_count": 1,
   "id": "817d6224-0779-492f-af34-af8dfaadcfb3",
   "metadata": {},
   "outputs": [
    {
     "name": "stdout",
     "output_type": "stream",
     "text": [
      "Defaulting to user installation because normal site-packages is not writeable\n",
      "Requirement already satisfied: ctransformers in ./.local/lib/python3.10/site-packages (0.2.27)\n",
      "Requirement already satisfied: huggingface-hub in ./.local/lib/python3.10/site-packages (from ctransformers) (0.23.0)\n",
      "Requirement already satisfied: py-cpuinfo<10.0.0,>=9.0.0 in ./.local/lib/python3.10/site-packages (from ctransformers) (9.0.0)\n",
      "Requirement already satisfied: filelock in ./.local/lib/python3.10/site-packages (from huggingface-hub->ctransformers) (3.14.0)\n",
      "Requirement already satisfied: typing-extensions>=3.7.4.3 in ./.local/lib/python3.10/site-packages (from huggingface-hub->ctransformers) (4.11.0)\n",
      "Requirement already satisfied: pyyaml>=5.1 in /usr/lib/python3/dist-packages (from huggingface-hub->ctransformers) (5.4.1)\n",
      "Requirement already satisfied: tqdm>=4.42.1 in ./.local/lib/python3.10/site-packages (from huggingface-hub->ctransformers) (4.66.2)\n",
      "Requirement already satisfied: requests in ./.local/lib/python3.10/site-packages (from huggingface-hub->ctransformers) (2.31.0)\n",
      "Requirement already satisfied: fsspec>=2023.5.0 in ./.local/lib/python3.10/site-packages (from huggingface-hub->ctransformers) (2024.3.1)\n",
      "Requirement already satisfied: packaging>=20.9 in ./.local/lib/python3.10/site-packages (from huggingface-hub->ctransformers) (23.2)\n",
      "Requirement already satisfied: charset-normalizer<4,>=2 in ./.local/lib/python3.10/site-packages (from requests->huggingface-hub->ctransformers) (3.3.2)\n",
      "Requirement already satisfied: certifi>=2017.4.17 in /usr/lib/python3/dist-packages (from requests->huggingface-hub->ctransformers) (2020.6.20)\n",
      "Requirement already satisfied: idna<4,>=2.5 in /usr/lib/python3/dist-packages (from requests->huggingface-hub->ctransformers) (3.3)\n",
      "Requirement already satisfied: urllib3<3,>=1.21.1 in ./.local/lib/python3.10/site-packages (from requests->huggingface-hub->ctransformers) (2.2.1)\n",
      "Running on local URL:  http://127.0.0.1:7860\n",
      "\n",
      "To create a public link, set `share=True` in `launch()`.\n"
     ]
    },
    {
     "data": {
      "text/html": [
       "<div><iframe src=\"http://127.0.0.1:7860/\" width=\"100%\" height=\"500\" allow=\"autoplay; camera; microphone; clipboard-read; clipboard-write;\" frameborder=\"0\" allowfullscreen></iframe></div>"
      ],
      "text/plain": [
       "<IPython.core.display.HTML object>"
      ]
     },
     "metadata": {},
     "output_type": "display_data"
    },
    {
     "data": {
      "text/plain": []
     },
     "execution_count": 1,
     "metadata": {},
     "output_type": "execute_result"
    }
   ],
   "source": [
    "import gradio as gr\n",
    "!pip install ctransformers\n",
    "from ctransformers import AutoModelForCausalLM\n",
    "\n",
    "title = \"code Llama GGUF Demo\"\n",
    "\n",
    "def load_model():\n",
    "    model = AutoModelForCausalLM.from_pretrained(\n",
    "        \"codellama-7b-instruct.Q2_K.gguf\",\n",
    "        model_type='llama',\n",
    "        max_new_tokens=64\n",
    "    )\n",
    "    return model\n",
    "\n",
    "def chat_with_model(inp_chat, chat_history):\n",
    "    model = load_model()\n",
    "    response = model(inp_chat)\n",
    "    return response\n",
    "\n",
    "examples = [\n",
    "    'Write the python code to count numbers from 1 to 100.',\n",
    "    'Write a Python code to generate even numbers from 0 to n given numbers',\n",
    "    'Write a Python code to implement Stack data structure'\n",
    "    \n",
    "]\n",
    "\n",
    "gr.ChatInterface(\n",
    "    fn=chat_with_model,\n",
    "    title=title,\n",
    "    examples=examples\n",
    ").launch()"
   ]
  },
  {
   "cell_type": "code",
   "execution_count": null,
   "id": "2a4378b4-e869-4b64-b087-8a2f7ea309d8",
   "metadata": {},
   "outputs": [],
   "source": [
    "#the above file is my attempt at undertanding how to use parameters in llama"
   ]
  },
  {
   "cell_type": "code",
   "execution_count": null,
   "id": "1ee36d98-d7ed-413c-b2a6-7b6c67eb4009",
   "metadata": {},
   "outputs": [],
   "source": [
    "#it is created using a gguf file "
   ]
  },
  {
   "cell_type": "code",
   "execution_count": null,
   "id": "2cfeaa93-0e77-4152-bb44-d7430ad1487f",
   "metadata": {},
   "outputs": [],
   "source": []
  },
  {
   "cell_type": "code",
   "execution_count": null,
   "id": "54b1eff3-3cbb-47f5-af3c-de10ad3d9063",
   "metadata": {},
   "outputs": [],
   "source": []
  },
  {
   "cell_type": "code",
   "execution_count": null,
   "id": "841f720d-05a4-4292-8732-c9d09062518f",
   "metadata": {},
   "outputs": [],
   "source": []
  },
  {
   "cell_type": "code",
   "execution_count": null,
   "id": "8bb596de-6ea9-4ae8-8bc3-bcf0a8c72732",
   "metadata": {},
   "outputs": [],
   "source": []
  },
  {
   "cell_type": "code",
   "execution_count": null,
   "id": "ad9cbb5f-fb5c-4961-b9fd-760b75a4ad1a",
   "metadata": {},
   "outputs": [],
   "source": []
  },
  {
   "cell_type": "code",
   "execution_count": null,
   "id": "2c2c3bff-9904-42de-9c70-52a5bddb977b",
   "metadata": {},
   "outputs": [],
   "source": []
  },
  {
   "cell_type": "code",
   "execution_count": null,
   "id": "5315734f-c55e-4701-a5f4-6d2f301ea528",
   "metadata": {},
   "outputs": [],
   "source": []
  },
  {
   "cell_type": "code",
   "execution_count": null,
   "id": "1d2007a3-af81-43a1-a10b-d4f37ae3f51a",
   "metadata": {},
   "outputs": [],
   "source": []
  },
  {
   "cell_type": "code",
   "execution_count": null,
   "id": "a73f4be7-7662-4be6-9a22-3a5f93ee684f",
   "metadata": {},
   "outputs": [],
   "source": []
  },
  {
   "cell_type": "code",
   "execution_count": null,
   "id": "7d4b357a-465c-48fd-b19a-91cd31cc80b8",
   "metadata": {},
   "outputs": [],
   "source": []
  }
 ],
 "metadata": {
  "kernelspec": {
   "display_name": "Python 3 (ipykernel)",
   "language": "python",
   "name": "python3"
  },
  "language_info": {
   "codemirror_mode": {
    "name": "ipython",
    "version": 3
   },
   "file_extension": ".py",
   "mimetype": "text/x-python",
   "name": "python",
   "nbconvert_exporter": "python",
   "pygments_lexer": "ipython3",
   "version": "3.10.12"
  }
 },
 "nbformat": 4,
 "nbformat_minor": 5
}
